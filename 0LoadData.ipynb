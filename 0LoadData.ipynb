{
 "cells": [
  {
   "cell_type": "markdown",
   "metadata": {},
   "source": [
    "## My Smart Keyboard - Load Data\n",
    "\n",
    "This file loads data from files into lists.\n",
    "\n",
    "Initially, thought to load files line by line.  That would give me a DTM with number of rows = number of entries in files.  \n",
    "\n",
    "Next, decided that don't need to build such a huge matrix for an N-Gram model.  In N-Gram model, will only be interested in a row with a previous word or a few rows with previous words.\n",
    "\n"
   ]
  },
  {
   "cell_type": "code",
   "execution_count": 13,
   "metadata": {},
   "outputs": [],
   "source": [
    "#meta: 8/2/2018"
   ]
  },
  {
   "cell_type": "code",
   "execution_count": 14,
   "metadata": {},
   "outputs": [],
   "source": [
    "import numpy as np\n",
    "import time as time\n"
   ]
  },
  {
   "cell_type": "markdown",
   "metadata": {},
   "source": [
    "### 0. Load Data "
   ]
  },
  {
   "cell_type": "code",
   "execution_count": 15,
   "metadata": {},
   "outputs": [
    {
     "name": "stdout",
     "output_type": "stream",
     "text": [
      "Loaded Twitter data in  0.1005172332127889\n"
     ]
    }
   ],
   "source": [
    "#load data from text files\n",
    "start = time.time()\n",
    "\n",
    "data_entries_twitter = []\n",
    "with open(\"myData/en_US.twitter.txt\", ) as f:\n",
    "    #f.readline()  # read one line in order to skip the header\n",
    "    for line in f:\n",
    "        data_entries_twitter.append(line)\n",
    "\n",
    "end = time.time()\n",
    "print('Loaded Twitter data in ', (end - start)/ 60 )\n"
   ]
  },
  {
   "cell_type": "code",
   "execution_count": 16,
   "metadata": {},
   "outputs": [
    {
     "name": "stdout",
     "output_type": "stream",
     "text": [
      "Twitter size  2360148\n",
      "Twitter:  ['How are you? Btw thanks for the RT. You gonna be in DC anytime soon? Love to see you. Been way, way too long.\\n', \"When you meet someone special... you'll know. Your heart will beat more rapidly and you'll smile for no reason.\\n\", \"they've decided its more fun if I don't.\\n\", 'So Tired D; Played Lazer Tag & Ran A LOT D; Ughh Going To Sleep Like In 5 Minutes ;)\\n', 'Words from a complete stranger! Made my birthday even better :)\\n']\n"
     ]
    }
   ],
   "source": [
    "print ('Twitter size ', len(data_entries_twitter))\n",
    "print (\"Twitter: \", data_entries_twitter[:5])"
   ]
  },
  {
   "cell_type": "code",
   "execution_count": 17,
   "metadata": {},
   "outputs": [
    {
     "name": "stdout",
     "output_type": "stream",
     "text": [
      "Loaded news data in  0.05243554910024007\n"
     ]
    }
   ],
   "source": [
    "start = time.time()\n",
    "\n",
    "data_entries_news = []\n",
    "with open(\"myData/en_US.news.txt\", ) as f:\n",
    "    #f.readline()  # read one line in order to skip the header\n",
    "    for line in f:\n",
    "        data_entries_news.append(line)\n",
    "\n",
    "end = time.time()\n",
    "print('Loaded news data in ', (end - start)/ 60 )"
   ]
  },
  {
   "cell_type": "code",
   "execution_count": 18,
   "metadata": {},
   "outputs": [
    {
     "name": "stdout",
     "output_type": "stream",
     "text": [
      "News size  1010242\n",
      "News:  [\"He wasn't home alone, apparently.\\n\", 'The St. Louis plant had to close. It would die of old age. Workers had been making cars there since the onset of mass automotive production in the 1920s.\\n', \"WSU's plans quickly became a hot topic on local online sites. Though most people applauded plans for the new biomedical center, many deplored the potential loss of the building.\\n\", 'The Alaimo Group of Mount Holly was up for a contract last fall to evaluate and suggest improvements to Trenton Water Works. But campaign finance records released this week show the two employees donated a total of $4,500 to the political action committee (PAC) Partners for Progress in early June. Partners for Progress reported it gave more than $10,000 in both direct and in-kind contributions to Mayor Tony Mack in the two weeks leading up to his victory in the mayoral runoff election June 15.\\n', \"And when it's often difficult to predict a law's impact, legislators should think twice before carrying any bill. Is it absolutely necessary? Is it an issue serious enough to merit their attention? Will it definitely not make the situation worse?\\n\"]\n"
     ]
    }
   ],
   "source": [
    "print ('News size ', len(data_entries_news))\n",
    "print (\"News: \", data_entries_news[:5])"
   ]
  },
  {
   "cell_type": "code",
   "execution_count": 19,
   "metadata": {},
   "outputs": [
    {
     "data": {
      "text/plain": [
       "3370390"
      ]
     },
     "execution_count": 19,
     "metadata": {},
     "output_type": "execute_result"
    }
   ],
   "source": [
    "#combine two datasets\n",
    "data = []\n",
    "data = data_entries_twitter.copy()\n",
    "data.extend(data_entries_news)\n",
    "len(data)"
   ]
  },
  {
   "cell_type": "markdown",
   "metadata": {},
   "source": [
    "Stopped.  decided don't need to build a DTM with row count = number of all entries.  Much more efficient to calculate probabilities khowning a previous word or a few previos words.  \n",
    "\n",
    "### Xtra"
   ]
  },
  {
   "cell_type": "code",
   "execution_count": null,
   "metadata": {},
   "outputs": [],
   "source": []
  }
 ],
 "metadata": {
  "kernelspec": {
   "display_name": "Python 3",
   "language": "python",
   "name": "python3"
  },
  "language_info": {
   "codemirror_mode": {
    "name": "ipython",
    "version": 3
   },
   "file_extension": ".py",
   "mimetype": "text/x-python",
   "name": "python",
   "nbconvert_exporter": "python",
   "pygments_lexer": "ipython3",
   "version": "3.6.5"
  }
 },
 "nbformat": 4,
 "nbformat_minor": 2
}
